{
 "cells": [
  {
   "cell_type": "markdown",
   "metadata": {},
   "source": [
    "# Huffman Compression Algorithm\n",
    "## Research by Kostadin Kostadinov, May 2018\n",
    "In computer science and information theory, a Huffman code is a particular type of optimal prefix code that is commonly used for lossless data compression. The process of finding and/or using such a code proceeds by means of Huffman coding, an algorithm developed by David A. Huffman.\n",
    "\n",
    "The output from Huffman's algorithm can be viewed as a variable-length code table for encoding a source symbol (such as a character in a file). The algorithm derives this table from the estimated probability or frequency of occurrence (weight) for each possible value of the source symbol. As in other entropy encoding methods, more common symbols are generally represented using fewer bits than less common symbols. Huffman's method can be efficiently implemented, finding a code in time linear to the number of input weights if these weights are sorted. However, although optimal among methods encoding symbols separately, Huffman coding is not always optimal among all compression methods.\n",
    "\n",
    "![alternative text](compress.jpg \"Alternative\" )\n",
    "\n",
    "### Where and why is this algorithm used ?\n",
    "It is used widely in text compression, because it is lossless so nothing is lost between the uncompressed and the compressed file. And in text compression that is important while in image or audio compression you can have losses but if you have losses in your text, can you read it ? :)\n",
    "\n",
    "You can also use it to make an image and/or audio compression of course.\n",
    "### What is the difference betwenn lossless and lossy compression?\n",
    "* __Lossy compression__ - In information technology, lossy compression is used to reduce data size for storage, handling, and transmitting content. Different versions of the photo of the woman below show how higher degrees of approximation create coarser images as more details are removed. This is opposed to lossless data compression (reversible data compression) which does not degrade the data. The amount of data reduction possible using lossy compression is much higher than through lossless techniques.\n",
    "\n",
    "    Well-designed lossy compression technology often reduces file sizes significantly before degradation is noticed by the end-user. Even when noticeable by the user, further data reduction may be desirable (e.g., for real-time communication, to reduce transmission times, or to reduce storage needs).\n",
    "\n",
    "    Lossy compression is most commonly used to compress multimedia data (audio, video, and images), especially in applications such as streaming media and internet telephony. By contrast, lossless compression is typically required for text and data files, such as bank records and text articles. In many cases it is advantageous to make a master lossless file which is to be used to produce new compressed files; for example, a multi-megabyte file can be used at full size to produce a full-page advertisement in a glossy magazine, and a 10 kilobyte lossy copy can be made for a small image on a web page.\n",
    "    \n",
    "    ![Example of a lossy compression](lossy-compression.png \"Example of a lossy compression\" )\n",
    "\n",
    "* __Lossless compression__ - Lossless compression is a class of data compression algorithms that allows the original data to be perfectly reconstructed from the compressed data. By contrast, lossy compression permits reconstruction only of an approximation of the original data, though this usually improves compression rates (and therefore reduces file sizes).\n",
    "\n",
    "    Lossless data compression is used in many applications. For example, it is used in the ZIP file format and in the GNU tool gzip. It is also often used as a component within lossy data compression technologies (e.g. lossless mid/side joint stereo preprocessing by MP3 encoders and other lossy audio encoders).\n",
    "\n",
    "    Lossless compression is used in cases where it is important that the original and the decompressed data be identical, or where deviations from the original data would be unfavourable. Typical examples are executable programs, text documents, and source code. Some image file formats, like PNG or GIF, use only lossless compression.\n",
    "    \n",
    "    \n",
    "   ![Example of a lossless compression](lossless-compression.png \"Alternative\" )\n",
    "\n",
    "__One such lossless algorithm is the Huffman Compression Algorithm which we will examine and implement further in this notebook but let first see what is entropy encoding. __"
   ]
  },
  {
   "cell_type": "markdown",
   "metadata": {},
   "source": [
    "### Entropy encoding\n",
    "We need to know what is entropy encoding because one of the most common entropy encoding techniques is exactly Huffman coding(Huffman Compression Algorithm)\n",
    "\n"
   ]
  }
 ],
 "metadata": {
  "kernelspec": {
   "display_name": "Python 3",
   "language": "python",
   "name": "python3"
  },
  "language_info": {
   "codemirror_mode": {
    "name": "ipython",
    "version": 3
   },
   "file_extension": ".py",
   "mimetype": "text/x-python",
   "name": "python",
   "nbconvert_exporter": "python",
   "pygments_lexer": "ipython3",
   "version": "3.6.4"
  }
 },
 "nbformat": 4,
 "nbformat_minor": 2
}
